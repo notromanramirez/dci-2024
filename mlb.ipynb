{
 "cells": [
  {
   "cell_type": "code",
   "execution_count": 2,
   "metadata": {},
   "outputs": [
    {
     "data": {
      "text/plain": [
       "[                  Tm   W   L  W-L%    GB\n",
       " 1  Baltimore Orioles  58  38  .604    --\n",
       " 2   New York Yankees  58  40  .592   1.0\n",
       " 3     Boston Red Sox  53  42  .558   4.5\n",
       " 4     Tampa Bay Rays  48  48  .500  10.0\n",
       " 5  Toronto Blue Jays  44  52  .458  14.0,\n",
       "                     Tm   W   L  W-L%    GB\n",
       " 1  Cleveland Guardians  58  37  .611    --\n",
       " 2      Minnesota Twins  54  42  .563   4.5\n",
       " 3   Kansas City Royals  52  45  .536   7.0\n",
       " 4       Detroit Tigers  47  50  .485  12.0\n",
       " 5    Chicago White Sox  27  71  .276  32.5,\n",
       "                    Tm   W   L  W-L%    GB\n",
       " 1    Seattle Mariners  52  46  .531    --\n",
       " 2      Houston Astros  50  46  .521   1.0\n",
       " 3       Texas Rangers  46  50  .479   5.0\n",
       " 4  Los Angeles Angels  41  55  .427  10.0\n",
       " 5   Oakland Athletics  37  61  .378  15.0,\n",
       "                       Tm   W   L  W-L%    GB\n",
       " 1  Philadelphia Phillies  62  34  .646    --\n",
       " 2         Atlanta Braves  53  42  .558   8.5\n",
       " 3          New York Mets  49  46  .516  12.5\n",
       " 4   Washington Nationals  44  53  .454  18.5\n",
       " 5          Miami Marlins  33  63  .344  29.0,\n",
       "                     Tm   W   L  W-L%   GB\n",
       " 1    Milwaukee Brewers  55  42  .567   --\n",
       " 2  St. Louis Cardinals  50  46  .521  4.5\n",
       " 3   Pittsburgh Pirates  48  48  .500  6.5\n",
       " 4      Cincinnati Reds  47  50  .485  8.0\n",
       " 5         Chicago Cubs  47  51  .480  8.5,\n",
       "                      Tm   W   L  W-L%    GB\n",
       " 1   Los Angeles Dodgers  56  41  .577    --\n",
       " 2  Arizona Diamondbacks  49  48  .505   7.0\n",
       " 3      San Diego Padres  50  49  .505   7.0\n",
       " 4  San Francisco Giants  47  50  .485   9.0\n",
       " 5      Colorado Rockies  34  63  .351  22.0]"
      ]
     },
     "metadata": {},
     "output_type": "display_data"
    }
   ],
   "source": [
    "from pybaseball import standings\n",
    "\n",
    "data = standings()\n",
    "display(data)"
   ]
  }
 ],
 "metadata": {
  "kernelspec": {
   "display_name": "Python 3",
   "language": "python",
   "name": "python3"
  },
  "language_info": {
   "codemirror_mode": {
    "name": "ipython",
    "version": 3
   },
   "file_extension": ".py",
   "mimetype": "text/x-python",
   "name": "python",
   "nbconvert_exporter": "python",
   "pygments_lexer": "ipython3",
   "version": "3.9.13"
  }
 },
 "nbformat": 4,
 "nbformat_minor": 2
}
